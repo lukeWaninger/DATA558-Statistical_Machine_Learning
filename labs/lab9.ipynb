{
 "cells": [
  {
   "cell_type": "markdown",
   "metadata": {},
   "source": [
    "# <center/> Multilayer Perceptrons </center>"
   ]
  },
  {
   "cell_type": "markdown",
   "metadata": {},
   "source": [
    "In this lab we'll discuss multilayer perceptrons (the simplest type of neural network) and how to train them. By the end of the lab you should be able to:\n",
    "- Describe what a multi-layer perceptron (MLP) is\n",
    "- Describe how to train an MLP\n",
    "- Implement an MLP yourself"
   ]
  },
  {
   "cell_type": "markdown",
   "metadata": {},
   "source": [
    "## 1 Context"
   ]
  },
  {
   "cell_type": "markdown",
   "metadata": {},
   "source": [
    "As we have done the rest of quarter, consider predicting an output $y$ from an input $x$. For this we may use a model $\\hat y=f(x; \\theta)$ for some function $f$ and parameters $\\theta$. For example, we could have $f(x; W,b) = W^Tx + b$ as in linear regression or $f(x) = <\\phi(x), f>_\\mathcal{H}$ as in kernel ridge regression. How do we find appropriate parameter values? And how do we choose the function $f$?\n",
    "\n",
    "Assume we have training data $(x_i,y_i)_{i=1}^n$. Given a loss function $\\ell$, we would ideally like to fit the model by minimizing the expected loss\n",
    "$$\\mathbb{E}_{(X,Y)\\sim \\mathbb{P}} \\ell(y, f(x; \\theta)),$$\n",
    "assuming that the data is distributed iid according to some distribution $\\mathbb{P}$. As we generally don't know $\\mathbb{P}$, we instead minimize the loss on the training set:\n",
    "$$\\frac{1}{n}\\sum_{i=1}^n \\ell(y_i, f(x_i; \\theta)) + \\Omega(\\theta),$$\n",
    "typically with a regularization term $\\Omega$ added.\n",
    "\n",
    "- Example 1: Linear regression  \n",
    "Output: $\\hat y = f(x) = W^Tx + b$  \n",
    "Loss: $\\ell(y, \\hat y) = (y-\\hat y)^2$\n",
    "- Example 2: Logistic regression  \n",
    "Output: $\\hat y = f(x) = s(W^Tx + b)$, where $s(z) = \\frac{\\exp(z)}{1+\\exp(z)}$  \n",
    "Loss: $\\ell(y, \\hat y) = -y\\log(\\hat y) - (1-y)\\log(1-\\hat y)$ (when the labels are 0/1)\n",
    "- Example 3: Kernel SVM with squared hinge loss  \n",
    "Output: $\\hat y = f(x) = <\\phi(x), f>_\\mathcal{H}$  \n",
    "Loss: $\\ell(y, \\hat y) = \\max(0, 1-y\\hat y)^2$\n",
    "\n",
    "When it comes to choosing the functional form $f$ there is a bias-variance tradeoff. Simple models such as linear models have high bias and low variance. Linear models work well if the decision boundary is close to linear and can fail miserably otherwise (see the last lab). On the other hand, complex models with many parameters have low bias and high variance. They can fit nonlinear decision boundaries, but can be prone to overfitting.\n",
    "\n",
    "In the last lab we explored kernel SVMs to perform classification tasks and saw that they transform features to yield nonlinear decision boundaries. In this lab we examine multilayer perceptrons, which provide an alternative means of transforming features to obtain nonlinear decision boundaries. "
   ]
  },
  {
   "cell_type": "markdown",
   "metadata": {},
   "source": [
    "## 2 What is a multi-layer perceptron?"
   ]
  },
  {
   "cell_type": "markdown",
   "metadata": {},
   "source": [
    "Multilayer perceptrons set $f$ to be a composition of functions:\n",
    "$$f(x) = f_{L}(f_{L-1}(f_{L-2}(\\cdots (f_1(x))))),$$\n",
    "where each $f_j$ is of the form $f_j=g_j(W_j^Tx+b_j)$ and $g_j$ is a nonlinear function. $f_1,\\dots, f_{L-1}$ are called the hidden layers while $f_L$ is called the output layer. The exact specifications are context-specific, but you can think of $f_1,\\dots, f_{L-1}$ as generating a new representation of the input and of the final layer as being part of a classifier on top. "
   ]
  },
  {
   "cell_type": "markdown",
   "metadata": {},
   "source": [
    "There are many questions you might ask:\n",
    "\n",
    "**How do you choose how many $f_j$'s (layers) there are? What about the dimension of each layer?**  \n",
    "That is problem-specific and people typically set these parameters using background knowledge and experimentation. \n",
    "\n",
    "**How do you choose the nonlinear functions $g_j$ at the hidden layers?**  \n",
    "People have suggested a number of different functions, including tanh, sigmoid, and $\\max(x,0)$ (called the rectified linear unit or ReLU). These days ReLUs are most popular. People typically use the same type of nonlinearity for each hidden layer.\n",
    "\n",
    "** How do you choose the nonlinear function $g_L$ at the output layer? **  \n",
    "This depends on the type of problem you are trying to solve. For regression problems you would typically use the identity function, whereas for multiclass classification you would use the softmax function.\n",
    "\n",
    "** How do you choose a loss function? **  \n",
    "Similarly to the last question, this is problem-specific. People mostly use the negative log-likelihood.\n",
    "\n",
    "** How do you train such a model? **  \n",
    "The typical training method is stochastic gradient descent. There is a method called backpropagation that allows you to compute the derivatives efficiently. Note that a model like this is very non-convex and is not robust to the choice of initialization.\n",
    "\n",
    "** How do you initialize the weights for the training? **   \n",
    "Typically people use small randomly drawn values for the weights and zero for the biases. A common recommendation is for each layer $j$ to use values drawn iid from $N(0, 2/d_j)$, where $d_j$ is the dimension of the inputs to layer $j$. What you don't want to do is initialize the weights to zero. \n",
    "\n",
    "** Why would we use a neural network as opposed to other methods, such as kernel-based methods? **  \n",
    "Traditionally neural networks have outperformed other methods, including kernel-based methods. "
   ]
  },
  {
   "cell_type": "markdown",
   "metadata": {},
   "source": [
    "## 3 Scikit-learn example\n",
    "In this section we'll see how to use scikit-learn to fit an MLP. Recall the data from last week:"
   ]
  },
  {
   "cell_type": "code",
   "execution_count": 28,
   "metadata": {},
   "outputs": [
    {
     "name": "stdout",
     "output_type": "stream",
     "text": [
      "Number of training examples: 60\n",
      "Number of test examples: 40\n"
     ]
    },
    {
     "data": {
      "text/plain": [
       "[]"
      ]
     },
     "execution_count": 28,
     "metadata": {},
     "output_type": "execute_result"
    },
    {
     "data": {
      "image/png": "[encoded data removed]",
      "text/plain": [
       "<matplotlib.figure.Figure at 0x7f5b98771eb8>"
      ]
     },
     "metadata": {},
     "output_type": "display_data"
    }
   ],
   "source": [
    "%matplotlib inline\n",
    "from matplotlib.colors import ListedColormap\n",
    "import matplotlib.pyplot as plt\n",
    "import numpy as np\n",
    "import sklearn.datasets\n",
    "from sklearn.model_selection import train_test_split\n",
    "from sklearn.preprocessing import StandardScaler\n",
    "\n",
    "X, y = sklearn.datasets.make_circles(noise=0.2, factor=0.5, random_state=1)\n",
    "X_train, X_test, y_train, y_test = train_test_split(X, y, test_size=.4, random_state=0)\n",
    "scaler = StandardScaler()\n",
    "X_train = scaler.fit_transform(X_train)\n",
    "X_test = scaler.transform(X_test)\n",
    "\n",
    "print('Number of training examples:', X_train.shape[0])\n",
    "print('Number of test examples:', X_test.shape[0])\n",
    "\n",
    "x_min, x_max = X[:, 0].min() - .5, X[:, 0].max() + .5\n",
    "y_min, y_max = X[:, 1].min() - .5, X[:, 1].max() + .5\n",
    "h = .02  # step size in the mesh\n",
    "xx, yy = np.meshgrid(np.arange(x_min, x_max, h),\n",
    "                     np.arange(y_min, y_max, h))\n",
    "\n",
    "cm = plt.cm.RdBu\n",
    "cm_bright = ListedColormap(['#FF0000', '#0000FF'])\n",
    "# Plot the training points\n",
    "ax = plt.subplot()\n",
    "ax.scatter(X_train[:, 0], X_train[:, 1], c=y_train, cmap=cm_bright,\n",
    "           edgecolors='k')\n",
    "# and testing points\n",
    "ax.scatter(X_test[:, 0], X_test[:, 1], c=y_test, cmap=cm_bright, alpha=0.1,\n",
    "           edgecolors='k')\n",
    "ax.set_xlim(xx.min(), xx.max())\n",
    "ax.set_ylim(yy.min(), yy.max())\n",
    "ax.set_xticks(())\n",
    "ax.set_yticks(())"
   ]
  },
  {
   "cell_type": "code",
   "execution_count": 29,
   "metadata": {},
   "outputs": [],
   "source": [
    "def plot_results(probs, X_train=X_train, X_test=X_test, y_train=y_train, y_test=y_test, xx=xx, yy=yy):\n",
    "    Zs = np.c_[xx.ravel(), yy.ravel()]\n",
    "\n",
    "    # Put the result into a color plot\n",
    "    probs = probs.reshape(xx.shape)\n",
    "    ax = plt.subplot()\n",
    "    ax.contourf(xx, yy, probs, cmap=cm, alpha=.8)\n",
    "\n",
    "    # Plot also the training points\n",
    "    ax.scatter(X_train[:, 0], X_train[:, 1], c=y_train, cmap=cm_bright,\n",
    "               edgecolors='k')\n",
    "    # and testing points\n",
    "    ax.scatter(X_test[:, 0], X_test[:, 1], c=y_test, cmap=cm_bright,\n",
    "               edgecolors='k', alpha=0.2)\n",
    "\n",
    "    ax.set_xlim(xx.min(), xx.max())\n",
    "    ax.set_ylim(yy.min(), yy.max())\n",
    "    ax.set_xticks(())\n",
    "    ax.set_yticks(())\n",
    "    plt.show()\n",
    "    "
   ]
  },
  {
   "cell_type": "markdown",
   "metadata": {},
   "source": [
    "This time let's fit an MLP with the one hidden layer. This MLP will use the ReLU nonlinearity at the first layer and the dimension of the representation at the hidden layer will be five (i.e., it will have five hidden units). The second layer (the output layer) will use the sigmoid function to produce output probabilities. In summary, the neural net will be of the form \n",
    "\n",
    "$$\\hat y = f(x) = s(W_2^T \\max(W_1^Tx+b_1, 0) + b_2)$$ \n",
    "where $$s(z) = \\frac{\\exp(z)}{1+\\exp(z)}.$$\n",
    "\n",
    "The loss function will be the negative log-likelihood. Recall from lab 3 that this is given by\n",
    "$$ \\ell(y, \\hat y) = -y\\log(\\hat y) - (1-y)\\log(1-\\hat y).$$"
   ]
  },
  {
   "cell_type": "markdown",
   "metadata": {},
   "source": [
    "** Exercise 1 ** Given that the inputs have dimension 2 and the hidden layer has dimension 5, what are the dimensions of $W_1$, $b_1$, $W_2$, and $b_2$?"
   ]
  },
  {
   "cell_type": "markdown",
   "metadata": {},
   "source": [
    "** Exercise 2 ** Using scikit-learn's MLPClassifier, fit the above model. Call the instantiated classifier `mlp`, use lbfgs as the optimizer (as it is a small-scale problem) and set `alpha=2`. "
   ]
  },
  {
   "cell_type": "code",
   "execution_count": 30,
   "metadata": {},
   "outputs": [
    {
     "data": {
      "text/plain": [
       "MLPClassifier(activation='relu', alpha=2, batch_size='auto', beta_1=0.9,\n",
       "       beta_2=0.999, early_stopping=False, epsilon=1e-08,\n",
       "       hidden_layer_sizes=5, learning_rate='constant',\n",
       "       learning_rate_init=0.001, max_iter=200, momentum=0.9,\n",
       "       nesterovs_momentum=True, power_t=0.5, random_state=0, shuffle=True,\n",
       "       solver='lbfgs', tol=0.0001, validation_fraction=0.1, verbose=False,\n",
       "       warm_start=False)"
      ]
     },
     "execution_count": 30,
     "metadata": {},
     "output_type": "execute_result"
    }
   ],
   "source": [
    "from sklearn.neural_network import MLPClassifier\n",
    "\n",
    "hidden_layer_sizes = (5)\n",
    "mlp = MLPClassifier(hidden_layer_sizes=hidden_layer_sizes, solver='lbfgs', alpha=2, random_state=0)\n",
    "mlp.fit(X_train, y_train)"
   ]
  },
  {
   "cell_type": "code",
   "execution_count": 31,
   "metadata": {},
   "outputs": [
    {
     "data": {
      "image/png": "[encoded data removed]",
      "text/plain": [
       "<matplotlib.figure.Figure at 0x7f5b98744320>"
      ]
     },
     "metadata": {},
     "output_type": "display_data"
    }
   ],
   "source": [
    "Zs = np.c_[xx.ravel(), yy.ravel()]\n",
    "probs = mlp.predict_proba(Zs)\n",
    "plot_results(probs[:, 1])"
   ]
  },
  {
   "cell_type": "markdown",
   "metadata": {},
   "source": [
    "** Exercise 3* ** Perform cross-validation to choose `alpha`. Recall that you can do this using `GridSearchCV`."
   ]
  },
  {
   "cell_type": "code",
   "execution_count": null,
   "metadata": {},
   "outputs": [],
   "source": []
  },
  {
   "cell_type": "markdown",
   "metadata": {},
   "source": [
    "## 4 Training an MLP"
   ]
  },
  {
   "cell_type": "markdown",
   "metadata": {},
   "source": [
    "Traditionally MLPs have been trained via stochastic backpropagation methods. In this section we'll see how to train the network from above with the stochastic subgradient method."
   ]
  },
  {
   "cell_type": "markdown",
   "metadata": {},
   "source": [
    "First recall the chain rule. Let $z = u(v(x))$ for a vector $x\\in\\mathbb{R}^{d_0}$, a function $v:\\mathbb{R}^{d_0}\\to\\mathbb{R}^{d_1}$, and a function $u:\\mathbb{R}^{d_1}\\to\\mathbb{R}$. Then the derivative of $z$ with respect to the $i$th element of $x$ is given by\n",
    "$$ \\frac{\\partial z}{\\partial x_i} = \\sum_{j=1}^{d_1} \\frac{\\partial z}{\\partial v_j}\\frac{\\partial v_j}{\\partial x_i}$$"
   ]
  },
  {
   "cell_type": "markdown",
   "metadata": {},
   "source": [
    "** Exercise 4 ** Suppose $x=(x_1,x_2)\\in\\mathbb{R}^2$, $v(x_1,x_2) = [x_2^2, x_1^2]$, and $z=u(v_1, v_2) = v_1+v_2$. Compute $\\frac{\\partial z}{\\partial x_1}$ and $\\frac{\\partial z}{\\partial x_2}$."
   ]
  },
  {
   "cell_type": "markdown",
   "metadata": {},
   "source": [
    "Recall that our neural net outputs\n",
    "$$\\hat y = f(x) = s(W_2^T \\max(W_1^Tx+b_1, 0) + b_2)$$ \n",
    "where $$s(z) = \\frac{\\exp(z)}{1+\\exp(z)}$$ is the sigmoid function."
   ]
  },
  {
   "cell_type": "markdown",
   "metadata": {},
   "source": [
    "** Exercise 5 ** Compute $\\frac{\\partial f}{\\partial W_2}$ and $\\frac{\\partial f}{\\partial b_2}$.  "
   ]
  },
  {
   "cell_type": "markdown",
   "metadata": {},
   "source": [
    "** Exercise 6 ** Compute the subdifferentials $\\partial_{W_1} f$ and $\\partial_{b_1}f$."
   ]
  },
  {
   "cell_type": "markdown",
   "metadata": {},
   "source": [
    "Recall that the loss function we're using is given by\n",
    "$$ \\ell(y, \\hat y) = -y\\log(\\hat y) - (1-y)\\log(1-\\hat y).$$\n",
    "** Exercise 7 ** Compute $\\frac{\\partial \\ell(y, f(x))}{\\partial W_2}$ and $\\frac{\\partial \\ell(y, f(x))}{\\partial b_2}$, $\\partial_{W_1} \\ell(y, f(x))$, and $\\partial_{b_1} \\ell(y, f(x))$"
   ]
  },
  {
   "cell_type": "markdown",
   "metadata": {},
   "source": [
    "## 5 Do-it-yourself MLP"
   ]
  },
  {
   "cell_type": "markdown",
   "metadata": {},
   "source": [
    "Next we'll code the MLP from above ourselves to perform the previous binary classification task. \n",
    "\n",
    "The code below is adapted from here: https://github.com/m2dsupsdlclass/lectures-labs/blob/master/labs/02_backprop/Backpropagation_numpy.ipynb"
   ]
  },
  {
   "cell_type": "markdown",
   "metadata": {},
   "source": [
    "** Exercise 7 ** Fill in the code below to compute the ReLU activation and a subgradient."
   ]
  },
  {
   "cell_type": "code",
   "execution_count": 32,
   "metadata": {},
   "outputs": [
    {
     "data": {
      "image/png": "[encoded data removed]",
      "text/plain": [
       "<matplotlib.figure.Figure at 0x7f5b9875a7f0>"
      ]
     },
     "metadata": {},
     "output_type": "display_data"
    }
   ],
   "source": [
    "def relu(X):\n",
    "    # TODO\n",
    "    return np.maximum(X, 0)\n",
    "\n",
    "\n",
    "def drelu(X):\n",
    "    # TODO\n",
    "    return 1*(X > 0)\n",
    "\n",
    "\n",
    "x = np.linspace(-5, 5, 100)\n",
    "plt.plot(x, relu(x), label='relu')\n",
    "plt.plot(x, drelu(x), label='drelu')\n",
    "plt.legend(loc='best');"
   ]
  },
  {
   "cell_type": "markdown",
   "metadata": {},
   "source": [
    "** Exercise 8 ** Fill in the code below with the sigmoid function."
   ]
  },
  {
   "cell_type": "code",
   "execution_count": 38,
   "metadata": {},
   "outputs": [
    {
     "data": {
      "text/plain": [
       "[<matplotlib.lines.Line2D at 0x7f5b98820d30>]"
      ]
     },
     "execution_count": 38,
     "metadata": {},
     "output_type": "execute_result"
    },
    {
     "data": {
      "image/png": "[encoded data removed]",
      "text/plain": [
       "<matplotlib.figure.Figure at 0x7f5b98a9b630>"
      ]
     },
     "metadata": {},
     "output_type": "display_data"
    }
   ],
   "source": [
    "def sigmoid(X):\n",
    "    # TODO\n",
    "    return np.exp(X)/(1+np.exp(X))\n",
    "\n",
    "plt.plot(x, sigmoid(x))"
   ]
  },
  {
   "cell_type": "markdown",
   "metadata": {},
   "source": [
    "The next set of exercises all refer to the code in the `NeuralNet` class below.\n",
    "\n",
    "** Exercise 9 ** Complete the `__init__` method to initialize the biases to zero and the weights to be drawn from a normal distribution with mean zero and standard deviation $\\sqrt{2/d_j}$, where $d_j$ is the dimension of the features being input into layer $j$.\n",
    "\n",
    "** Exercise 10 ** Complete the `forward()` method to return the output of the neural network. \n",
    "\n",
    "** Exercise 11 ** Complete the `forward_keep_activations` method. Here $h = \\max(W_1^Tx+b_1, 0)$, $y=\\text{softmax}(W^T_2h+b_2)$, and $z_h=W_1^Tx+b_1$.\n",
    "\n",
    "** Exercise 12 ** Complete the `loss` method. \n",
    "\n",
    "** Exercise 13 ** Complete the `predict` method to predict whether the label of an input X should be 1 or 0.\n",
    "\n",
    "** Exercise 14 ** Complete the `grad_loss` method with the derivatives of the loss with respect to $W_1, b_1, W_2$, and $b_2$.\n",
    "\n",
    "** Exercise 15 ** Complete the `train` method. This should run one step of the stochastic subgradient method (which is like SGD, except using subgradients) with the specified learning rate."
   ]
  },
  {
   "cell_type": "code",
   "execution_count": 39,
   "metadata": {},
   "outputs": [],
   "source": [
    "class NeuralNet():\n",
    "    \"\"\"MLP with 1 hidden layer with a ReLU activation\"\"\"\n",
    "\n",
    "    def __init__(self, input_size, hidden_size):\n",
    "        # TODO\n",
    "        self.W_1 = np.random.normal(size=(input_size, hidden_size), loc=0, scale=np.sqrt(2 / input_size))\n",
    "        self.b_1 = np.zeros(hidden_size)\n",
    "        self.W_2 = np.random.normal(size=(hidden_size), loc=0, scale=np.sqrt(2 / hidden_size))\n",
    "        self.b_2 = 0\n",
    "        self.output_size = 1\n",
    "\n",
    "    def forward(self, X):\n",
    "        # TODO\n",
    "        if len(X.shape) == 1:\n",
    "            h = relu(np.dot(X, self.W_1) + self.b_1)\n",
    "            return sigmoid(np.dot(self.W_2, h) + self.b_2)\n",
    "        else:\n",
    "            h = relu(np.dot(X, self.W_1) + self.b_1)\n",
    "            return sigmoid(np.dot(h, self.W_2) + self.b_2)\n",
    "\n",
    "    def forward_keep_activations(self, X):\n",
    "        # TODO\n",
    "        z_h = np.dot(X, self.W_1) + self.b_1\n",
    "        h = relu(z_h)\n",
    "        y = sigmoid(np.dot(h, self.W_2) + self.b_2)\n",
    "\n",
    "        return y, h, z_h\n",
    "\n",
    "    def loss(self, X, y):\n",
    "        # TODO\n",
    "        yhat = self.forward(X)\n",
    "        return np.mean(-y * np.log(yhat) - (1 - y) * np.log(1 - yhat))\n",
    "\n",
    "    def grad_loss(self, x, y_true):\n",
    "        # TODO\n",
    "        y, h, z_h = self.forward_keep_activations(x)\n",
    "        grad_z_o = y - y_true\n",
    "        grad_w_2 = grad_z_o*h\n",
    "        grad_b_2 = grad_z_o\n",
    "        grad_h = grad_z_o*self.W_2\n",
    "        grad_z_h = grad_h * drelu(z_h)\n",
    "        grad_w_1 = np.outer(x, grad_z_h)\n",
    "        grad_b_1 = grad_z_h\n",
    "\n",
    "        return {\"W_1\": grad_w_1, \"b_1\": grad_b_1, \"W_2\": grad_w_2, \"b_2\": grad_b_2}\n",
    "\n",
    "    def train(self, x, y, learning_rate):\n",
    "        # TODO\n",
    "        grads = self.grad_loss(x, y)\n",
    "        self.W_1 -= learning_rate * grads['W_1']\n",
    "        self.b_1 -= learning_rate * grads['b_1']\n",
    "        self.W_2 -= learning_rate * grads['W_2']\n",
    "        self.b_2 -= learning_rate * grads['b_2']\n",
    "\n",
    "    def predict(self, X):\n",
    "        return (self.forward(X) > 0.5)\n",
    "\n",
    "    def accuracy(self, X, y):\n",
    "        y_preds = self.predict(X)\n",
    "        return np.mean(y_preds == y)"
   ]
  },
  {
   "cell_type": "code",
   "execution_count": 40,
   "metadata": {},
   "outputs": [],
   "source": [
    "n_hidden = 10\n",
    "np.random.seed(0)\n",
    "n_features = np.size(X_train, 1)\n",
    "model = NeuralNet(n_features, n_hidden)"
   ]
  },
  {
   "cell_type": "code",
   "execution_count": 41,
   "metadata": {},
   "outputs": [
    {
     "data": {
      "text/plain": [
       "0.78546957506475301"
      ]
     },
     "execution_count": 41,
     "metadata": {},
     "output_type": "execute_result"
    }
   ],
   "source": [
    "model.loss(X_train, y_train)"
   ]
  },
  {
   "cell_type": "code",
   "execution_count": 42,
   "metadata": {},
   "outputs": [
    {
     "data": {
      "text/plain": [
       "0.56666666666666665"
      ]
     },
     "execution_count": 42,
     "metadata": {},
     "output_type": "execute_result"
    }
   ],
   "source": [
    "model.accuracy(X_train, y_train)"
   ]
  },
  {
   "cell_type": "code",
   "execution_count": 43,
   "metadata": {},
   "outputs": [
    {
     "name": "stdout",
     "output_type": "stream",
     "text": [
      "Random init: train loss: 0.78547, train acc: 0.567, test acc: 0.550\n",
      "Epoch #1, train loss: 0.71454, train acc: 0.533, test acc: 0.525\n",
      "Epoch #2, train loss: 0.69249, train acc: 0.583, test acc: 0.550\n",
      "Epoch #3, train loss: 0.67558, train acc: 0.583, test acc: 0.525\n",
      "Epoch #4, train loss: 0.66108, train acc: 0.567, test acc: 0.550\n",
      "Epoch #5, train loss: 0.64817, train acc: 0.600, test acc: 0.550\n",
      "Epoch #6, train loss: 0.63641, train acc: 0.633, test acc: 0.575\n",
      "Epoch #7, train loss: 0.62550, train acc: 0.683, test acc: 0.600\n",
      "Epoch #8, train loss: 0.61493, train acc: 0.717, test acc: 0.700\n",
      "Epoch #9, train loss: 0.60657, train acc: 0.733, test acc: 0.725\n",
      "Epoch #10, train loss: 0.59886, train acc: 0.733, test acc: 0.750\n",
      "Epoch #11, train loss: 0.59114, train acc: 0.750, test acc: 0.750\n",
      "Epoch #12, train loss: 0.58364, train acc: 0.750, test acc: 0.750\n",
      "Epoch #13, train loss: 0.57643, train acc: 0.750, test acc: 0.775\n",
      "Epoch #14, train loss: 0.56931, train acc: 0.750, test acc: 0.775\n",
      "Epoch #15, train loss: 0.56202, train acc: 0.750, test acc: 0.775\n",
      "Epoch #16, train loss: 0.55497, train acc: 0.750, test acc: 0.775\n",
      "Epoch #17, train loss: 0.54791, train acc: 0.767, test acc: 0.775\n",
      "Epoch #18, train loss: 0.54053, train acc: 0.767, test acc: 0.775\n",
      "Epoch #19, train loss: 0.53326, train acc: 0.767, test acc: 0.775\n",
      "Epoch #20, train loss: 0.52605, train acc: 0.783, test acc: 0.775\n",
      "Epoch #21, train loss: 0.51900, train acc: 0.783, test acc: 0.775\n",
      "Epoch #22, train loss: 0.51210, train acc: 0.783, test acc: 0.775\n",
      "Epoch #23, train loss: 0.50495, train acc: 0.783, test acc: 0.750\n",
      "Epoch #24, train loss: 0.49794, train acc: 0.783, test acc: 0.750\n",
      "Epoch #25, train loss: 0.49095, train acc: 0.783, test acc: 0.750\n",
      "Epoch #26, train loss: 0.48367, train acc: 0.783, test acc: 0.725\n",
      "Epoch #27, train loss: 0.47645, train acc: 0.783, test acc: 0.750\n",
      "Epoch #28, train loss: 0.46929, train acc: 0.800, test acc: 0.775\n",
      "Epoch #29, train loss: 0.46219, train acc: 0.817, test acc: 0.775\n",
      "Epoch #30, train loss: 0.45535, train acc: 0.817, test acc: 0.775\n",
      "Epoch #31, train loss: 0.44840, train acc: 0.817, test acc: 0.775\n",
      "Epoch #32, train loss: 0.44144, train acc: 0.817, test acc: 0.775\n",
      "Epoch #33, train loss: 0.43437, train acc: 0.817, test acc: 0.775\n",
      "Epoch #34, train loss: 0.42715, train acc: 0.817, test acc: 0.800\n",
      "Epoch #35, train loss: 0.42001, train acc: 0.800, test acc: 0.800\n",
      "Epoch #36, train loss: 0.41290, train acc: 0.800, test acc: 0.800\n",
      "Epoch #37, train loss: 0.40584, train acc: 0.817, test acc: 0.800\n",
      "Epoch #38, train loss: 0.39873, train acc: 0.817, test acc: 0.800\n",
      "Epoch #39, train loss: 0.39174, train acc: 0.833, test acc: 0.800\n",
      "Epoch #40, train loss: 0.38490, train acc: 0.833, test acc: 0.800\n",
      "Epoch #41, train loss: 0.37841, train acc: 0.850, test acc: 0.825\n",
      "Epoch #42, train loss: 0.37185, train acc: 0.867, test acc: 0.825\n",
      "Epoch #43, train loss: 0.36579, train acc: 0.867, test acc: 0.850\n",
      "Epoch #44, train loss: 0.35996, train acc: 0.883, test acc: 0.850\n",
      "Epoch #45, train loss: 0.35455, train acc: 0.883, test acc: 0.850\n",
      "Epoch #46, train loss: 0.34905, train acc: 0.900, test acc: 0.850\n",
      "Epoch #47, train loss: 0.34376, train acc: 0.917, test acc: 0.850\n",
      "Epoch #48, train loss: 0.33862, train acc: 0.917, test acc: 0.875\n",
      "Epoch #49, train loss: 0.33378, train acc: 0.917, test acc: 0.900\n",
      "Epoch #50, train loss: 0.32895, train acc: 0.917, test acc: 0.900\n",
      "Epoch #51, train loss: 0.32435, train acc: 0.900, test acc: 0.900\n",
      "Epoch #52, train loss: 0.31991, train acc: 0.917, test acc: 0.900\n",
      "Epoch #53, train loss: 0.31555, train acc: 0.917, test acc: 0.900\n",
      "Epoch #54, train loss: 0.31122, train acc: 0.933, test acc: 0.900\n",
      "Epoch #55, train loss: 0.30684, train acc: 0.933, test acc: 0.900\n",
      "Epoch #56, train loss: 0.30259, train acc: 0.933, test acc: 0.900\n",
      "Epoch #57, train loss: 0.29843, train acc: 0.933, test acc: 0.900\n",
      "Epoch #58, train loss: 0.29443, train acc: 0.933, test acc: 0.900\n",
      "Epoch #59, train loss: 0.29067, train acc: 0.933, test acc: 0.900\n",
      "Epoch #60, train loss: 0.28685, train acc: 0.933, test acc: 0.900\n",
      "Epoch #61, train loss: 0.28325, train acc: 0.933, test acc: 0.900\n",
      "Epoch #62, train loss: 0.27978, train acc: 0.933, test acc: 0.900\n",
      "Epoch #63, train loss: 0.27638, train acc: 0.933, test acc: 0.900\n",
      "Epoch #64, train loss: 0.27314, train acc: 0.933, test acc: 0.900\n",
      "Epoch #65, train loss: 0.27001, train acc: 0.933, test acc: 0.900\n",
      "Epoch #66, train loss: 0.26689, train acc: 0.933, test acc: 0.900\n",
      "Epoch #67, train loss: 0.26388, train acc: 0.933, test acc: 0.900\n",
      "Epoch #68, train loss: 0.26112, train acc: 0.933, test acc: 0.900\n",
      "Epoch #69, train loss: 0.25813, train acc: 0.933, test acc: 0.900\n",
      "Epoch #70, train loss: 0.25530, train acc: 0.933, test acc: 0.900\n",
      "Epoch #71, train loss: 0.25268, train acc: 0.933, test acc: 0.900\n",
      "Epoch #72, train loss: 0.25010, train acc: 0.933, test acc: 0.900\n",
      "Epoch #73, train loss: 0.24776, train acc: 0.933, test acc: 0.900\n",
      "Epoch #74, train loss: 0.24537, train acc: 0.933, test acc: 0.900\n",
      "Epoch #75, train loss: 0.24304, train acc: 0.933, test acc: 0.900\n",
      "Epoch #76, train loss: 0.24094, train acc: 0.933, test acc: 0.900\n",
      "Epoch #77, train loss: 0.23860, train acc: 0.933, test acc: 0.900\n",
      "Epoch #78, train loss: 0.23658, train acc: 0.933, test acc: 0.900\n",
      "Epoch #79, train loss: 0.23461, train acc: 0.933, test acc: 0.900\n",
      "Epoch #80, train loss: 0.23245, train acc: 0.933, test acc: 0.900\n",
      "Epoch #81, train loss: 0.23058, train acc: 0.933, test acc: 0.900\n",
      "Epoch #82, train loss: 0.22866, train acc: 0.933, test acc: 0.900\n",
      "Epoch #83, train loss: 0.22691, train acc: 0.933, test acc: 0.900\n",
      "Epoch #84, train loss: 0.22524, train acc: 0.933, test acc: 0.900\n",
      "Epoch #85, train loss: 0.22339, train acc: 0.917, test acc: 0.900\n",
      "Epoch #86, train loss: 0.22178, train acc: 0.933, test acc: 0.900\n",
      "Epoch #87, train loss: 0.22013, train acc: 0.917, test acc: 0.900\n",
      "Epoch #88, train loss: 0.21850, train acc: 0.917, test acc: 0.900\n",
      "Epoch #89, train loss: 0.21711, train acc: 0.917, test acc: 0.900\n",
      "Epoch #90, train loss: 0.21537, train acc: 0.917, test acc: 0.900\n",
      "Epoch #91, train loss: 0.21402, train acc: 0.917, test acc: 0.900\n",
      "Epoch #92, train loss: 0.21246, train acc: 0.917, test acc: 0.900\n",
      "Epoch #93, train loss: 0.21098, train acc: 0.917, test acc: 0.900\n",
      "Epoch #94, train loss: 0.20982, train acc: 0.917, test acc: 0.900\n",
      "Epoch #95, train loss: 0.20821, train acc: 0.917, test acc: 0.900\n",
      "Epoch #96, train loss: 0.20706, train acc: 0.917, test acc: 0.900\n",
      "Epoch #97, train loss: 0.20562, train acc: 0.917, test acc: 0.900\n",
      "Epoch #98, train loss: 0.20443, train acc: 0.917, test acc: 0.900\n",
      "Epoch #99, train loss: 0.20331, train acc: 0.917, test acc: 0.900\n",
      "Epoch #100, train loss: 0.20185, train acc: 0.917, test acc: 0.900\n"
     ]
    }
   ],
   "source": [
    "losses, accuracies, accuracies_test = [], [], []\n",
    "losses.append(model.loss(X_train, y_train))\n",
    "accuracies.append(model.accuracy(X_train, y_train))\n",
    "accuracies_test.append(model.accuracy(X_test, y_test))\n",
    "\n",
    "print(\"Random init: train loss: %0.5f, train acc: %0.3f, test acc: %0.3f\"\n",
    "      % (losses[-1], accuracies[-1], accuracies_test[-1]))\n",
    "\n",
    "for epoch in range(100):\n",
    "    for i, (x, y) in enumerate(zip(X_train, y_train)):\n",
    "        model.train(x, y, 0.01)\n",
    "\n",
    "    losses.append(model.loss(X_train, y_train))\n",
    "    accuracies.append(model.accuracy(X_train, y_train))\n",
    "    accuracies_test.append(model.accuracy(X_test, y_test))\n",
    "    print(\"Epoch #%d, train loss: %0.5f, train acc: %0.3f, test acc: %0.3f\"\n",
    "          % (epoch + 1, losses[-1], accuracies[-1], accuracies_test[-1]))"
   ]
  },
  {
   "cell_type": "code",
   "execution_count": 44,
   "metadata": {},
   "outputs": [
    {
     "data": {
      "image/png": "[encoded data removed]",
      "text/plain": [
       "<matplotlib.figure.Figure at 0x7f5b98a311d0>"
      ]
     },
     "metadata": {},
     "output_type": "display_data"
    }
   ],
   "source": [
    "plt.plot(losses)\n",
    "plt.title(\"Training loss\");"
   ]
  },
  {
   "cell_type": "code",
   "execution_count": 45,
   "metadata": {},
   "outputs": [
    {
     "data": {
      "image/png": "[encoded data removed]",
      "text/plain": [
       "<matplotlib.figure.Figure at 0x7f5b98905ba8>"
      ]
     },
     "metadata": {},
     "output_type": "display_data"
    }
   ],
   "source": [
    "plt.plot(accuracies, label='train')\n",
    "plt.plot(accuracies_test, label='test')\n",
    "plt.ylim(0, 1.1)\n",
    "plt.ylabel(\"accuracy\")\n",
    "plt.legend(loc='best');"
   ]
  },
  {
   "cell_type": "code",
   "execution_count": 46,
   "metadata": {},
   "outputs": [
    {
     "data": {
      "image/png": "[encoded data removed]",
      "text/plain": [
       "<matplotlib.figure.Figure at 0x7f5b9896a940>"
      ]
     },
     "metadata": {},
     "output_type": "display_data"
    }
   ],
   "source": [
    "probs = model.forward(Zs)\n",
    "plot_results(probs)"
   ]
  },
  {
   "cell_type": "markdown",
   "metadata": {},
   "source": [
    "** Exercise 16* ** Add regularization to the network. Then compare to the results from scikit-learn. "
   ]
  },
  {
   "cell_type": "code",
   "execution_count": null,
   "metadata": {},
   "outputs": [],
   "source": []
  }
 ],
 "metadata": {
  "kernelspec": {
   "display_name": "Python 3",
   "language": "python",
   "name": "python3"
  },
  "language_info": {
   "codemirror_mode": {
    "name": "ipython",
    "version": 3
   },
   "file_extension": ".py",
   "mimetype": "text/x-python",
   "name": "python",
   "nbconvert_exporter": "python",
   "pygments_lexer": "ipython3",
   "version": "3.5.2"
  }
 },
 "nbformat": 4,
 "nbformat_minor": 2
}
